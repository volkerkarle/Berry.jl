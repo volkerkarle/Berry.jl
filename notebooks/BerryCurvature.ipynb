{
 "cells": [
  {
   "cell_type": "code",
   "execution_count": 66,
   "id": "f87db023-e6c2-41b9-ab0a-f2786c09d321",
   "metadata": {
    "tags": []
   },
   "outputs": [
    {
     "name": "stderr",
     "output_type": "stream",
     "text": [
      "\u001b[32m\u001b[1m  Activating\u001b[22m\u001b[39m project at `~/Berry.jl`\n"
     ]
    },
    {
     "name": "stdout",
     "output_type": "stream",
     "text": [
      "Julia Version 1.9.0\n",
      "Commit 8e630552924 (2023-05-07 11:25 UTC)\n",
      "Platform Info:\n",
      "  OS: Linux (x86_64-linux-gnu)\n",
      "  CPU: 24 × Intel(R) Xeon(R) CPU E5-2620 v3 @ 2.40GHz\n",
      "  WORD_SIZE: 64\n",
      "  LIBM: libopenlibm\n",
      "  LLVM: libLLVM-14.0.6 (ORCJIT, haswell)\n",
      "  Threads: 25 on 24 virtual cores\n",
      "Environment:\n",
      "  JULIA_NUM_THREADS = auto\n",
      "Actual number of threads used: 24\n"
     ]
    }
   ],
   "source": [
    "using Pkg\n",
    "Pkg.activate(\"../.\")\n",
    "using Berry\n",
    "versioninfo()\n",
    "using PyPlot\n",
    "using LinearAlgebra, SparseArrays\n",
    "using StaticArrays\n",
    "using BenchmarkTools\n",
    "using Distributed\n",
    "using SharedArrays\n",
    "println(\"Actual number of threads used: \", Base.Threads.nthreads())"
   ]
  },
  {
   "cell_type": "code",
   "execution_count": 67,
   "id": "645cae9f-c2a3-4b40-b785-4b166b79d95f",
   "metadata": {
    "tags": []
   },
   "outputs": [],
   "source": [
    "enum = enumerate\n",
    "σˣ= @SMatrix [0  1; 1  0]\n",
    "σᶻ= @SMatrix [1  0; 0 -1]\n",
    "σʸ= @SMatrix [0 -im;im 0]\n",
    "σ    = [σˣ, σʸ, σᶻ];"
   ]
  },
  {
   "cell_type": "code",
   "execution_count": 68,
   "id": "b9ad7bfa-b12f-41c9-9361-25ed90253efd",
   "metadata": {
    "tags": []
   },
   "outputs": [
    {
     "data": {
      "text/plain": [
       "berry_curvature_2D (generic function with 2 methods)"
      ]
     },
     "execution_count": 68,
     "metadata": {},
     "output_type": "execute_result"
    }
   ],
   "source": [
    "# Fukui et al. 2005\n",
    "roll(n::Int,N::Int)  = ((n-1)%N)+1\n",
    "function berry_curvature_2D(ψ::Array{ComplexF64,3})\n",
    "    N,Nx,Ny = size(ψ)\n",
    "    U_m = zeros(ComplexF64,Nx,Ny)\n",
    "    U_n = zeros(ComplexF64,Nx,Ny)\n",
    "    for i in 1:Nx\n",
    "        for j in 1:Ny\n",
    "            U_n[i,j] = ψ[:,i,j] ⋅ ψ[:,roll(i+1,Nx),j]\n",
    "            U_n[i,j]/= abs(U_n[i,j])\n",
    "            U_m[i,j] = ψ[:,i,j] ⋅ ψ[:,i,roll(j+1,Ny)]\n",
    "            U_m[i,j]/= abs(U_m[i,j])\n",
    "        end\n",
    "    end\n",
    "    Ω = zeros(Nx,Ny)\n",
    "    for i in 1:Nx\n",
    "        for j in 1:Ny\n",
    "            Ω[i,j] = imag(log(U_n[i,j]*U_m[roll(i+1,Nx),j]*conj(U_n[i,roll(j+1,Ny)])*conj(U_m[i,j])))\n",
    "        end\n",
    "    end\n",
    "    return Ω\n",
    "end\n",
    "# Distributed\n",
    "function berry_curvature_2D(ψ::SharedArray{ComplexF64,3})\n",
    "    println(\"Distributed function is used.\")\n",
    "    N,Nx,Ny = size(ψ)\n",
    "    U_m = SharedArray{ComplexF64}(Nx,Ny)\n",
    "    U_n = SharedArray{ComplexF64}(Nx,Ny)\n",
    "    @distributed for i in 1:Nx\n",
    "        for j in 1:Ny\n",
    "            U_n[i,j] = ψ[:,i,j] ⋅ ψ[:,roll(i+1,Nx),j]\n",
    "            U_n[i,j]/= abs(U_n[i,j])\n",
    "            U_m[i,j] = ψ[:,i,j] ⋅ ψ[:,i,roll(j+1,Ny)]\n",
    "            U_m[i,j]/= abs(U_m[i,j])\n",
    "        end\n",
    "    end\n",
    "    Ω = SharedArray{Float64}(Nx,Ny)\n",
    "    @distributed for i in 1:Nx\n",
    "        for j in 1:Ny\n",
    "            Ω[i,j] = imag(log(U_n[i,j]*U_m[roll(i+1,Nx),j]*conj(U_n[i,roll(j+1,Ny)])*conj(U_m[i,j])))\n",
    "        end\n",
    "    end\n",
    "    return Ω\n",
    "end"
   ]
  },
  {
   "cell_type": "markdown",
   "id": "872306fb-df24-4e18-8ca1-2b361821817d",
   "metadata": {},
   "source": [
    "# Spin models"
   ]
  },
  {
   "cell_type": "code",
   "execution_count": 1,
   "id": "afe07351-f91e-4318-b43c-46526cf9bd8b",
   "metadata": {
    "tags": []
   },
   "outputs": [
    {
     "ename": "LoadError",
     "evalue": "LoadError: UndefVarError: `@SMatrix` not defined\nin expression starting at In[1]:7",
     "output_type": "error",
     "traceback": [
      "LoadError: UndefVarError: `@SMatrix` not defined\nin expression starting at In[1]:7",
      ""
     ]
    }
   ],
   "source": [
    "function diagonalize_BHZ(Δ,Nkx=50,Nky=50)\n",
    "    kx_all = LinRange(0,2π,Nkx)\n",
    "    ky_all = LinRange(0,2π,Nky)\n",
    "    H_BHZ(kx,ky,Δ) = sin(kx)*σˣ+ sin(ky)*σʸ+ (Δ + cos(kx)+cos(ky))*σᶻ\n",
    "    E_all = SharedArray{Float64}(2,Nkx,Nky)\n",
    "    ψ_all = SharedArray{ComplexF64}(2,2,Nkx,Nky)\n",
    "    H = @SMatrix zeros(2,2)\n",
    "    @distributed for ikx ∈ 1:Nkx\n",
    "        kx = kx_all[ikx]\n",
    "        for iky ∈ 1:Nky\n",
    "            ky = ky_all[iky]\n",
    "            H = H_BHZ(kx,ky,Δ)\n",
    "            E_all[:,ikx,iky],ψ_all[:,:,ikx,iky] = eigen(H)\n",
    "        end\n",
    "    end\n",
    "    return Array(E_all), Array(ψ_all)\n",
    "end"
   ]
  },
  {
   "cell_type": "code",
   "execution_count": 2,
   "id": "966c073a-6886-4ccf-9b57-dac4741db545",
   "metadata": {
    "tags": []
   },
   "outputs": [
    {
     "ename": "LoadError",
     "evalue": "UndefVarError: `diagonalize_BHZ` not defined",
     "output_type": "error",
     "traceback": [
      "UndefVarError: `diagonalize_BHZ` not defined",
      "",
      "Stacktrace:",
      " [1] top-level scope",
      "   @ In[2]:1"
     ]
    }
   ],
   "source": [
    "E_all, ψ_all = diagonalize_BHZ(1.5,200,200);"
   ]
  },
  {
   "cell_type": "code",
   "execution_count": 3,
   "id": "be3e8998-412f-433a-8f22-b6e81564fca0",
   "metadata": {
    "tags": []
   },
   "outputs": [
    {
     "ename": "LoadError",
     "evalue": "UndefVarError: `ψ_all` not defined",
     "output_type": "error",
     "traceback": [
      "UndefVarError: `ψ_all` not defined",
      "",
      "Stacktrace:",
      " [1] top-level scope",
      "   @ In[3]:1"
     ]
    }
   ],
   "source": [
    "Ω = berry_curvature_2D(ψ_all[:,1,:,:],distributed=true)\n",
    "sum(Ω)/(2π)"
   ]
  },
  {
   "cell_type": "code",
   "execution_count": null,
   "id": "ad49e539-05f8-41a9-93bf-91c6cce75d48",
   "metadata": {
    "tags": []
   },
   "outputs": [],
   "source": []
  },
  {
   "cell_type": "code",
   "execution_count": null,
   "id": "9d133b27-e6ca-41bd-9d34-0ce77b2dc4ff",
   "metadata": {},
   "outputs": [],
   "source": [
    "    "
   ]
  },
  {
   "cell_type": "code",
   "execution_count": null,
   "id": "b651fd60-520b-4362-a71b-52e9f74d8691",
   "metadata": {},
   "outputs": [],
   "source": []
  },
  {
   "cell_type": "code",
   "execution_count": null,
   "id": "d989f5cc-3797-4500-a35c-dbd396293b44",
   "metadata": {
    "tags": []
   },
   "outputs": [],
   "source": []
  },
  {
   "cell_type": "code",
   "execution_count": null,
   "id": "ccc3c1b5-5b83-4313-97b1-55876f012cc8",
   "metadata": {
    "tags": []
   },
   "outputs": [],
   "source": []
  },
  {
   "cell_type": "code",
   "execution_count": null,
   "id": "e0a42052-e50f-46ce-85b0-95c6010acd94",
   "metadata": {
    "tags": []
   },
   "outputs": [],
   "source": []
  },
  {
   "cell_type": "code",
   "execution_count": null,
   "id": "0873b021-6742-460e-8706-732c73f842a3",
   "metadata": {},
   "outputs": [],
   "source": []
  }
 ],
 "metadata": {
  "kernelspec": {
   "display_name": "Julia-threads 1.9.0",
   "language": "julia",
   "name": "julia-threads-1.9"
  },
  "language_info": {
   "file_extension": ".jl",
   "mimetype": "application/julia",
   "name": "julia",
   "version": "1.9.0"
  }
 },
 "nbformat": 4,
 "nbformat_minor": 5
}
